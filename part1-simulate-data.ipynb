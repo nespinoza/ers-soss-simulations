{
 "cells": [
  {
   "cell_type": "code",
   "execution_count": null,
   "metadata": {},
   "outputs": [],
   "source": [
    "# Import stardard python libraries:\n",
    "import numpy as np\n",
    "import matplotlib.pyplot as plt\n",
    "\n",
    "# Import astropy, mirage, seaborn for plots:\n",
    "import batman\n",
    "import astropy.units as q\n",
    "from mirage.soss_simulator import SossSim\n",
    "import seaborn\n",
    "seaborn.set_style('ticks')\n",
    "\n",
    "# Import utils script:\n",
    "import utils"
   ]
  },
  {
   "cell_type": "markdown",
   "metadata": {},
   "source": [
    "## 1. Introduction\n",
    "---------------\n",
    "\n",
    "Let's first use our `utils` script to generate a stellar spectrum consistent with WASP-43. First, define stellar properties of WASP-43:"
   ]
  },
  {
   "cell_type": "code",
   "execution_count": null,
   "metadata": {},
   "outputs": [],
   "source": [
    "teff, logg, feh, jmag = 4520, 4.6, -0.01, 8"
   ]
  },
  {
   "cell_type": "markdown",
   "metadata": {},
   "source": [
    "Our `utils` script can get the closest ATLAS or PHOENIX spectrum for those properties. Let's use the ATLAS spectrum:"
   ]
  },
  {
   "cell_type": "code",
   "execution_count": null,
   "metadata": {},
   "outputs": [],
   "source": [
    "star_wavelength, star_flux = utils.get_stellar_model(teff=teff, logg=logg, feh=feh, jmag=jmag)"
   ]
  },
  {
   "cell_type": "markdown",
   "metadata": {},
   "source": [
    "Let's plot this:"
   ]
  },
  {
   "cell_type": "code",
   "execution_count": null,
   "metadata": {},
   "outputs": [],
   "source": [
    "plt.plot(star_wavelength, star_flux)\n",
    "plt.xlim(0.4,3.)\n",
    "plt.xlabel('Wavelength (microns)')\n",
    "plt.ylabel('Flux (erg/s/cm$^2$/angstrom)')\n",
    "plt.title('Stellar spectrum of WASP-43')"
   ]
  },
  {
   "cell_type": "markdown",
   "metadata": {},
   "source": [
    "Let's similarly define a flat transit spectrum for WASP-43b:"
   ]
  },
  {
   "cell_type": "code",
   "execution_count": null,
   "metadata": {},
   "outputs": [],
   "source": [
    "planet_wavelength, planet_tspectrum = np.copy(star_wavelength), np.ones([len(star_wavelength)])*0.0136059394"
   ]
  },
  {
   "cell_type": "markdown",
   "metadata": {},
   "source": [
    "## 2. Running `mirage`\n",
    "---------------\n",
    "\n",
    "All right, now we can do a test run of `mirage` with SOSS --- note I'm using _my_ fork of `mirage` (https://github.com/nespinoza/mirage/tree/add_soss) which fixes some bugs we were seeing. \n",
    "\n",
    "### 2.1 Setting the transit model\n",
    "\n",
    "The very first thing we need to do is to generate a transit model `tmodel` and its parameters `params` using `batman` so `mirage` can inject those into the PSFs themselves. \n",
    "\n",
    "We first get the properties of WASP-43b from Kreidberg et al. (2014), and inject those in the `params` object. Let's assume we will be observing the transit of WASP-43b which occurrs on `2459819.131474` (August 27, 2022 --- at about 15:09 UT; note the `yaml` file is set to observe around this time indeed): "
   ]
  },
  {
   "cell_type": "code",
   "execution_count": null,
   "metadata": {},
   "outputs": [],
   "source": [
    "params = batman.TransitParams()\n",
    "params.t0 = 2455528.8684\n",
    "params.per = 0.81347436\n",
    "params.a = 4.87\n",
    "params.inc = 82.10\n",
    "params.ecc = 0.\n",
    "params.w = 90.\n",
    "params.limb_dark = 'quadratic'\n",
    "params.u = [0.5,0.5]   # These are placeholders; they are changed internally\n",
    "params.rp = 0.1166445  # These are placeholders; they are changed internally"
   ]
  },
  {
   "cell_type": "markdown",
   "metadata": {},
   "source": [
    "Now create the `TransitModel` object; inject stellar info as well here. This is useful for calculating limb-darkening:"
   ]
  },
  {
   "cell_type": "code",
   "execution_count": null,
   "metadata": {},
   "outputs": [],
   "source": [
    "tmodel = batman.TransitModel(params, np.array([0.])) # Time array is placeholder, will be changed internally by MIRAGE\n",
    "tmodel.teff, tmodel.logg, tmodel.feh = teff, logg, feh"
   ]
  },
  {
   "cell_type": "markdown",
   "metadata": {},
   "source": [
    "### 2.2 Run `mirage` with `SossSim`\n",
    "\n",
    "All right, now we ingest all this to `mirage` --- if you don't have `exoctk`, this will set limb-darkening to zero (which is what we want for now I believe!):"
   ]
  },
  {
   "cell_type": "code",
   "execution_count": null,
   "metadata": {},
   "outputs": [],
   "source": [
    "sim = SossSim(paramfile = 'files/niriss_soss_substrip256_clear.yaml', \\\n",
    "              star=[star_wavelength, star_flux], \\\n",
    "              planet=[planet_wavelength, planet_tspectrum],\\\n",
    "              tmodel = tmodel)"
   ]
  },
  {
   "cell_type": "markdown",
   "metadata": {},
   "source": [
    "And, let's create the exposure! This should take a while:"
   ]
  },
  {
   "cell_type": "code",
   "execution_count": null,
   "metadata": {},
   "outputs": [],
   "source": [
    "sim.create()"
   ]
  },
  {
   "cell_type": "markdown",
   "metadata": {},
   "source": [
    "Let's read in the simulated data and plot one integration:"
   ]
  },
  {
   "cell_type": "code",
   "execution_count": null,
   "metadata": {},
   "outputs": [],
   "source": [
    "from astropy.io import fits"
   ]
  },
  {
   "cell_type": "code",
   "execution_count": null,
   "metadata": {},
   "outputs": [],
   "source": [
    "w43 = fits.open('WASP43_NIS_SOSS-seg001_CLEAR_uncal.fits')"
   ]
  },
  {
   "cell_type": "code",
   "execution_count": null,
   "metadata": {},
   "outputs": [],
   "source": [
    "data = w43['SCI'].data"
   ]
  },
  {
   "cell_type": "code",
   "execution_count": null,
   "metadata": {},
   "outputs": [],
   "source": [
    "plt.figure(figsize=(15,5))\n",
    "im = plt.imshow(data[0,2,:,:])\n",
    "im.set_clim(10000,20000)"
   ]
  }
 ],
 "metadata": {
  "kernelspec": {
   "display_name": "mirage",
   "language": "python",
   "name": "mirage"
  },
  "language_info": {
   "codemirror_mode": {
    "name": "ipython",
    "version": 3
   },
   "file_extension": ".py",
   "mimetype": "text/x-python",
   "name": "python",
   "nbconvert_exporter": "python",
   "pygments_lexer": "ipython3",
   "version": "3.7.10"
  }
 },
 "nbformat": 4,
 "nbformat_minor": 4
}
